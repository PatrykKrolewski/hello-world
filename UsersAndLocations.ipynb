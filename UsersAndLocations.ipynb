{
  "nbformat": 4,
  "nbformat_minor": 0,
  "metadata": {
    "colab": {
      "name": "UsersAndLocations.ipynb",
      "provenance": [],
      "collapsed_sections": [],
      "include_colab_link": true
    },
    "kernelspec": {
      "name": "python3",
      "display_name": "Python 3"
    }
  },
  "cells": [
    {
      "cell_type": "markdown",
      "metadata": {
        "id": "view-in-github",
        "colab_type": "text"
      },
      "source": [
        "<a href=\"https://colab.research.google.com/github/PatrykKrolewski/hello-world/blob/master/UsersAndLocations.ipynb\" target=\"_parent\"><img src=\"https://colab.research.google.com/assets/colab-badge.svg\" alt=\"Open In Colab\"/></a>"
      ]
    },
    {
      "cell_type": "code",
      "metadata": {
        "id": "h-jkSYqbXzNy",
        "colab_type": "code",
        "outputId": "6b6b52a5-71bc-4ad2-dc47-ea1166c0d775",
        "colab": {
          "base_uri": "https://localhost:8080/",
          "height": 205
        }
      },
      "source": [
        "pip install https://github.com/elyase/geotext/archive/master.zip"
      ],
      "execution_count": 0,
      "outputs": [
        {
          "output_type": "stream",
          "text": [
            "Collecting https://github.com/elyase/geotext/archive/master.zip\n",
            "\u001b[?25l  Downloading https://github.com/elyase/geotext/archive/master.zip\n",
            "\u001b[K     / 4.2MB 384kB/s\n",
            "\u001b[?25hBuilding wheels for collected packages: geotext\n",
            "  Building wheel for geotext (setup.py) ... \u001b[?25l\u001b[?25hdone\n",
            "  Created wheel for geotext: filename=geotext-0.3.0-py2.py3-none-any.whl size=2272453 sha256=1b3e8a79f4083b914fa41b37f8cda5cde18375180ccb774327bb6dfdf8fb49c3\n",
            "  Stored in directory: /tmp/pip-ephem-wheel-cache-gzr78tur/wheels/f5/e3/84/31638877059a434d8601a764fc7565f2a9f7b6fb327085191e\n",
            "Successfully built geotext\n",
            "Installing collected packages: geotext\n",
            "Successfully installed geotext-0.3.0\n"
          ],
          "name": "stdout"
        }
      ]
    },
    {
      "cell_type": "code",
      "metadata": {
        "id": "QjSACHiHhw5E",
        "colab_type": "code",
        "outputId": "a4a6483d-dde0-423e-dc77-18de753d49d0",
        "colab": {
          "base_uri": "https://localhost:8080/",
          "height": 34
        }
      },
      "source": [
        "import xml.etree.ElementTree as ET\n",
        "import pandas as pd\n",
        "from geotext import GeoText \n",
        "import itertools \n",
        "from google.colab import drive\n",
        "\n",
        "drive.mount('/content/drive')"
      ],
      "execution_count": 0,
      "outputs": [
        {
          "output_type": "stream",
          "text": [
            "Drive already mounted at /content/drive; to attempt to forcibly remount, call drive.mount(\"/content/drive\", force_remount=True).\n"
          ],
          "name": "stdout"
        }
      ]
    },
    {
      "cell_type": "code",
      "metadata": {
        "id": "N0ccYU3WlfBs",
        "colab_type": "code",
        "outputId": "42209b0c-edbf-4682-c13a-15ccc6935b2a",
        "colab": {
          "base_uri": "https://localhost:8080/",
          "height": 672
        }
      },
      "source": [
        "!wget --no-check-certificate -P ./data/ \"https://archive.org/download/stackexchange/3dprinting.stackexchange.com.7z\"\n",
        "%cd /content/data\n",
        "!7z x /content/data/3dprinting.stackexchange.com.7z  Users.xml -r"
      ],
      "execution_count": 0,
      "outputs": [
        {
          "output_type": "stream",
          "text": [
            "--2020-06-07 11:49:40--  https://archive.org/download/stackexchange/3dprinting.stackexchange.com.7z\n",
            "Resolving archive.org (archive.org)... 207.241.224.2\n",
            "Connecting to archive.org (archive.org)|207.241.224.2|:443... connected.\n",
            "HTTP request sent, awaiting response... 302 Found\n",
            "Location: https://ia800107.us.archive.org/27/items/stackexchange/3dprinting.stackexchange.com.7z [following]\n",
            "--2020-06-07 11:49:40--  https://ia800107.us.archive.org/27/items/stackexchange/3dprinting.stackexchange.com.7z\n",
            "Resolving ia800107.us.archive.org (ia800107.us.archive.org)... 207.241.232.17\n",
            "Connecting to ia800107.us.archive.org (ia800107.us.archive.org)|207.241.232.17|:443... connected.\n",
            "HTTP request sent, awaiting response... 200 OK\n",
            "Length: 10868461 (10M) [application/x-7z-compressed]\n",
            "Saving to: ‘./data/3dprinting.stackexchange.com.7z’\n",
            "\n",
            "3dprinting.stackexc 100%[===================>]  10.36M  23.0MB/s    in 0.5s    \n",
            "\n",
            "2020-06-07 11:49:40 (23.0 MB/s) - ‘./data/3dprinting.stackexchange.com.7z’ saved [10868461/10868461]\n",
            "\n",
            "/content/data\n",
            "\n",
            "7-Zip [64] 16.02 : Copyright (c) 1999-2016 Igor Pavlov : 2016-05-21\n",
            "p7zip Version 16.02 (locale=en_US.UTF-8,Utf16=on,HugeFiles=on,64 bits,2 CPUs Intel(R) Xeon(R) CPU @ 2.30GHz (306F0),ASM,AES-NI)\n",
            "\n",
            "Scanning the drive for archives:\n",
            "  0M Scan /content/data/\b\b\b\b\b\b\b\b\b\b\b\b\b\b\b\b\b\b\b\b\b\b\b\b                        \b\b\b\b\b\b\b\b\b\b\b\b\b\b\b\b\b\b\b\b\b\b\b\b1 file, 10868461 bytes (11 MiB)\n",
            "\n",
            "Extracting archive: /content/data/3dprinting.stackexchange.com.7z\n",
            "--\n",
            "Path = /content/data/3dprinting.stackexchange.com.7z\n",
            "Type = 7z\n",
            "Physical Size = 10868461\n",
            "Headers Size = 303\n",
            "Method = BZip2\n",
            "Solid = +\n",
            "Blocks = 1\n",
            "\n",
            "  0%\b\b\b\b    \b\b\b\b 12% 1 . Comments.xml\b\b\b\b\b\b\b\b\b\b\b\b\b\b\b\b\b\b\b\b\b                     \b\b\b\b\b\b\b\b\b\b\b\b\b\b\b\b\b\b\b\b\b 23% 2 . PostHistory.xml\b\b\b\b\b\b\b\b\b\b\b\b\b\b\b\b\b\b\b\b\b\b\b\b                        \b\b\b\b\b\b\b\b\b\b\b\b\b\b\b\b\b\b\b\b\b\b\b\b 34% 2 . PostHistory.xml\b\b\b\b\b\b\b\b\b\b\b\b\b\b\b\b\b\b\b\b\b\b\b\b                        \b\b\b\b\b\b\b\b\b\b\b\b\b\b\b\b\b\b\b\b\b\b\b\b 44% 2 . PostHistory.xml\b\b\b\b\b\b\b\b\b\b\b\b\b\b\b\b\b\b\b\b\b\b\b\b                        \b\b\b\b\b\b\b\b\b\b\b\b\b\b\b\b\b\b\b\b\b\b\b\b 54% 2 . PostHistory.xml\b\b\b\b\b\b\b\b\b\b\b\b\b\b\b\b\b\b\b\b\b\b\b\b                        \b\b\b\b\b\b\b\b\b\b\b\b\b\b\b\b\b\b\b\b\b\b\b\b 64% 4 . Posts.xml\b\b\b\b\b\b\b\b\b\b\b\b\b\b\b\b\b\b                  \b\b\b\b\b\b\b\b\b\b\b\b\b\b\b\b\b\b 74% 4 . Posts.xml\b\b\b\b\b\b\b\b\b\b\b\b\b\b\b\b\b\b                  \b\b\b\b\b\b\b\b\b\b\b\b\b\b\b\b\b\b 83% 4 . Posts.xml\b\b\b\b\b\b\b\b\b\b\b\b\b\b\b\b\b\b                  \b\b\b\b\b\b\b\b\b\b\b\b\b\b\b\b\b\b 92% 6 - Users.xml\b\b\b\b\b\b\b\b\b\b\b\b\b\b\b\b\b\b                  \b\b\b\b\b\b\b\b\b\b\b\b\b\b\b\b\b\bEverything is Ok\n",
            "\n",
            "Files: 7\n",
            "Size:       58242892\n",
            "Compressed: 10868461\n"
          ],
          "name": "stdout"
        }
      ]
    },
    {
      "cell_type": "code",
      "metadata": {
        "colab_type": "code",
        "outputId": "03bc7b7f-deba-491c-d06e-be650919a72d",
        "id": "Wr9cKi_C_Bga",
        "colab": {
          "base_uri": "https://localhost:8080/",
          "height": 427
        }
      },
      "source": [
        "%cd /content/data\n",
        "tree = ET.parse('Users.xml')\n",
        "root = tree.getroot()\n",
        "identifiedLocations = 0\n",
        "readLocations = 0\n",
        "processedUser = 0\n",
        "usUsers = 0\n",
        "dfcols = ['id', 'location']\n",
        "df = pd.DataFrame(columns=dfcols)\n",
        "for index, row in enumerate(itertools.islice(root.findall('row'), None)):\n",
        "  id = row.get('Id')\n",
        "  location = row.get('Location')\n",
        "  if id is not None:\n",
        "   processedUser= processedUser+1\n",
        "  if location is not None:\n",
        "      readLocations = readLocations+1 \n",
        "      d =GeoText(location).country_mentions\n",
        "      for key, value in d.items():\n",
        "          if key is not None:\n",
        "            df = df.append(pd.Series([id, key], index=dfcols), ignore_index=True)\n",
        "            identifiedLocations = identifiedLocations+1\n",
        "print(processedUser)\n",
        "print(readLocations)\n",
        "print(identifiedLocations)\n",
        "\n",
        "drive.mount('/drive')\n",
        "df.to_csv('/drive/My Drive/project/UserAndLocations3dprinting.csv')\n",
        "\n",
        "\n",
        "df.head(10)"
      ],
      "execution_count": 0,
      "outputs": [
        {
          "output_type": "stream",
          "text": [
            "/content/data\n",
            "16722\n",
            "6905\n",
            "5948\n",
            "Drive already mounted at /drive; to attempt to forcibly remount, call drive.mount(\"/drive\", force_remount=True).\n"
          ],
          "name": "stdout"
        },
        {
          "output_type": "execute_result",
          "data": {
            "text/html": [
              "<div>\n",
              "<style scoped>\n",
              "    .dataframe tbody tr th:only-of-type {\n",
              "        vertical-align: middle;\n",
              "    }\n",
              "\n",
              "    .dataframe tbody tr th {\n",
              "        vertical-align: top;\n",
              "    }\n",
              "\n",
              "    .dataframe thead th {\n",
              "        text-align: right;\n",
              "    }\n",
              "</style>\n",
              "<table border=\"1\" class=\"dataframe\">\n",
              "  <thead>\n",
              "    <tr style=\"text-align: right;\">\n",
              "      <th></th>\n",
              "      <th>id</th>\n",
              "      <th>location</th>\n",
              "    </tr>\n",
              "  </thead>\n",
              "  <tbody>\n",
              "    <tr>\n",
              "      <th>0</th>\n",
              "      <td>1</td>\n",
              "      <td>US</td>\n",
              "    </tr>\n",
              "    <tr>\n",
              "      <th>1</th>\n",
              "      <td>3</td>\n",
              "      <td>US</td>\n",
              "    </tr>\n",
              "    <tr>\n",
              "      <th>2</th>\n",
              "      <td>4</td>\n",
              "      <td>US</td>\n",
              "    </tr>\n",
              "    <tr>\n",
              "      <th>3</th>\n",
              "      <td>6</td>\n",
              "      <td>US</td>\n",
              "    </tr>\n",
              "    <tr>\n",
              "      <th>4</th>\n",
              "      <td>7</td>\n",
              "      <td>US</td>\n",
              "    </tr>\n",
              "    <tr>\n",
              "      <th>5</th>\n",
              "      <td>7</td>\n",
              "      <td>BR</td>\n",
              "    </tr>\n",
              "    <tr>\n",
              "      <th>6</th>\n",
              "      <td>8</td>\n",
              "      <td>US</td>\n",
              "    </tr>\n",
              "    <tr>\n",
              "      <th>7</th>\n",
              "      <td>14</td>\n",
              "      <td>US</td>\n",
              "    </tr>\n",
              "    <tr>\n",
              "      <th>8</th>\n",
              "      <td>18</td>\n",
              "      <td>NL</td>\n",
              "    </tr>\n",
              "    <tr>\n",
              "      <th>9</th>\n",
              "      <td>20</td>\n",
              "      <td>GB</td>\n",
              "    </tr>\n",
              "  </tbody>\n",
              "</table>\n",
              "</div>"
            ],
            "text/plain": [
              "   id location\n",
              "0   1       US\n",
              "1   3       US\n",
              "2   4       US\n",
              "3   6       US\n",
              "4   7       US\n",
              "5   7       BR\n",
              "6   8       US\n",
              "7  14       US\n",
              "8  18       NL\n",
              "9  20       GB"
            ]
          },
          "metadata": {
            "tags": []
          },
          "execution_count": 23
        }
      ]
    }
  ]
}